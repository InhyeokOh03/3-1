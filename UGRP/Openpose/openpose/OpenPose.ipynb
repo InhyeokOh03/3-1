{
  "nbformat": 4,
  "nbformat_minor": 0,
  "metadata": {
    "colab": {
      "provenance": []
    },
    "kernelspec": {
      "name": "python3",
      "display_name": "Python 3"
    },
    "accelerator": "GPU"
  },
  "cells": [
    {
      "metadata": {
        "id": "X38L6tanrnrB"
      },
      "cell_type": "markdown",
      "source": [
        "# Pose Detection with OpenPose\n",
        "\n",
        "This notebook uses an open source project [CMU-Perceptual-Computing-Lab/openpose](https://github.com/CMU-Perceptual-Computing-Lab/openpose.git) to detect/track multi person poses on a given youtube video.\n",
        "\n",
        "For other deep-learning Colab notebooks, visit [tugstugi/dl-colab-notebooks](https://github.com/tugstugi/dl-colab-notebooks).\n",
        "\n",
        "\n",
        "## Install OpenPose"
      ]
    },
    {
      "metadata": {
        "id": "FOdkDhb6ga6N",
        "colab": {
          "base_uri": "https://localhost:8080/"
        },
        "outputId": "7f58c35c-f851-4be9-e858-b90480044ff0"
      },
      "cell_type": "code",
      "source": [
        "import os\n",
        "from os.path import exists, join, basename, splitext\n",
        "\n",
        "git_repo_url = 'https://github.com/CMU-Perceptual-Computing-Lab/openpose.git'\n",
        "project_name = splitext(basename(git_repo_url))[0]\n",
        "if not exists(project_name):\n",
        "  # see: https://github.com/CMU-Perceptual-Computing-Lab/openpose/issues/949\n",
        "  # install new CMake becaue of CUDA10\n",
        "  !wget -q https://cmake.org/files/v3.13/cmake-3.13.0-Linux-x86_64.tar.gz\n",
        "  !tar xfz cmake-3.13.0-Linux-x86_64.tar.gz --strip-components=1 -C /usr/local\n",
        "  # clone openpose\n",
        "  !git clone -q --depth 1 $git_repo_url\n",
        "  !sed -i 's/execute_process(COMMAND git checkout master WORKING_DIRECTORY ${CMAKE_SOURCE_DIR}\\/3rdparty\\/caffe)/execute_process(COMMAND git checkout f019d0dfe86f49d1140961f8c7dec22130c83154 WORKING_DIRECTORY ${CMAKE_SOURCE_DIR}\\/3rdparty\\/caffe)/g' openpose/CMakeLists.txt\n",
        "  # install system dependencies\n",
        "  !apt-get -qq install -y libatlas-base-dev libprotobuf-dev libleveldb-dev libsnappy-dev libhdf5-serial-dev protobuf-compiler libgflags-dev libgoogle-glog-dev liblmdb-dev opencl-headers ocl-icd-opencl-dev libviennacl-dev\n",
        "  # install python dependencies\n",
        "  !pip install -q youtube-dl\n",
        "  # build openpose\n",
        "  !cd openpose && rm -rf build || true && mkdir build && cd build && cmake .. && make -j`nproc`"
      ],
      "execution_count": 1,
      "outputs": [
        {
          "output_type": "stream",
          "name": "stdout",
          "text": [
            "Selecting previously unselected package liblmdb0:amd64.\n",
            "(Reading database ... 121752 files and directories currently installed.)\n",
            "Preparing to unpack .../00-liblmdb0_0.9.24-1build2_amd64.deb ...\n",
            "Unpacking liblmdb0:amd64 (0.9.24-1build2) ...\n",
            "Selecting previously unselected package libgflags2.2.\n",
            "Preparing to unpack .../01-libgflags2.2_2.2.2-2_amd64.deb ...\n",
            "Unpacking libgflags2.2 (2.2.2-2) ...\n",
            "Selecting previously unselected package libgflags-dev.\n",
            "Preparing to unpack .../02-libgflags-dev_2.2.2-2_amd64.deb ...\n",
            "Unpacking libgflags-dev (2.2.2-2) ...\n",
            "Selecting previously unselected package libgoogle-glog0v5.\n",
            "Preparing to unpack .../03-libgoogle-glog0v5_0.5.0+really0.4.0-2_amd64.deb ...\n",
            "Unpacking libgoogle-glog0v5 (0.5.0+really0.4.0-2) ...\n",
            "Selecting previously unselected package libunwind-dev:amd64.\n",
            "Preparing to unpack .../04-libunwind-dev_1.3.2-2build2.1_amd64.deb ...\n",
            "Unpacking libunwind-dev:amd64 (1.3.2-2build2.1) ...\n",
            "Selecting previously unselected package libgoogle-glog-dev.\n",
            "Preparing to unpack .../05-libgoogle-glog-dev_0.5.0+really0.4.0-2_amd64.deb ...\n",
            "Unpacking libgoogle-glog-dev (0.5.0+really0.4.0-2) ...\n",
            "Selecting previously unselected package libleveldb1d:amd64.\n",
            "Preparing to unpack .../06-libleveldb1d_1.23-3build1_amd64.deb ...\n",
            "Unpacking libleveldb1d:amd64 (1.23-3build1) ...\n",
            "Selecting previously unselected package libleveldb-dev:amd64.\n",
            "Preparing to unpack .../07-libleveldb-dev_1.23-3build1_amd64.deb ...\n",
            "Unpacking libleveldb-dev:amd64 (1.23-3build1) ...\n",
            "Selecting previously unselected package liblmdb-dev:amd64.\n",
            "Preparing to unpack .../08-liblmdb-dev_0.9.24-1build2_amd64.deb ...\n",
            "Unpacking liblmdb-dev:amd64 (0.9.24-1build2) ...\n",
            "Selecting previously unselected package libprotobuf-lite23:amd64.\n",
            "Preparing to unpack .../09-libprotobuf-lite23_3.12.4-1ubuntu7.22.04.1_amd64.deb ...\n",
            "Unpacking libprotobuf-lite23:amd64 (3.12.4-1ubuntu7.22.04.1) ...\n",
            "Selecting previously unselected package lmdb-doc.\n",
            "Preparing to unpack .../10-lmdb-doc_0.9.24-1build2_all.deb ...\n",
            "Unpacking lmdb-doc (0.9.24-1build2) ...\n",
            "Selecting previously unselected package libprotobuf-dev:amd64.\n",
            "Preparing to unpack .../11-libprotobuf-dev_3.12.4-1ubuntu7.22.04.1_amd64.deb ...\n",
            "Unpacking libprotobuf-dev:amd64 (3.12.4-1ubuntu7.22.04.1) ...\n",
            "Selecting previously unselected package libsnappy-dev:amd64.\n",
            "Preparing to unpack .../12-libsnappy-dev_1.1.8-1build3_amd64.deb ...\n",
            "Unpacking libsnappy-dev:amd64 (1.1.8-1build3) ...\n",
            "Selecting previously unselected package libviennacl-dev.\n",
            "Preparing to unpack .../13-libviennacl-dev_1.7.1+dfsg1-6_all.deb ...\n",
            "Unpacking libviennacl-dev (1.7.1+dfsg1-6) ...\n",
            "Selecting previously unselected package opencl-headers.\n",
            "Preparing to unpack .../14-opencl-headers_3.0~2022.01.04-1_all.deb ...\n",
            "Unpacking opencl-headers (3.0~2022.01.04-1) ...\n",
            "Setting up liblmdb0:amd64 (0.9.24-1build2) ...\n",
            "Setting up libleveldb1d:amd64 (1.23-3build1) ...\n",
            "Setting up libunwind-dev:amd64 (1.3.2-2build2.1) ...\n",
            "Setting up libleveldb-dev:amd64 (1.23-3build1) ...\n",
            "Setting up libsnappy-dev:amd64 (1.1.8-1build3) ...\n",
            "Setting up opencl-headers (3.0~2022.01.04-1) ...\n",
            "Setting up libprotobuf-lite23:amd64 (3.12.4-1ubuntu7.22.04.1) ...\n",
            "Setting up lmdb-doc (0.9.24-1build2) ...\n",
            "Setting up liblmdb-dev:amd64 (0.9.24-1build2) ...\n",
            "Setting up libviennacl-dev (1.7.1+dfsg1-6) ...\n",
            "Setting up libgflags2.2 (2.2.2-2) ...\n",
            "Setting up libprotobuf-dev:amd64 (3.12.4-1ubuntu7.22.04.1) ...\n",
            "Setting up libgflags-dev (2.2.2-2) ...\n",
            "Setting up libgoogle-glog0v5 (0.5.0+really0.4.0-2) ...\n",
            "Setting up libgoogle-glog-dev (0.5.0+really0.4.0-2) ...\n",
            "Processing triggers for man-db (2.10.2-1) ...\n",
            "Processing triggers for libc-bin (2.35-0ubuntu3.4) ...\n",
            "/sbin/ldconfig.real: /usr/local/lib/libtbbmalloc_proxy.so.2 is not a symbolic link\n",
            "\n",
            "/sbin/ldconfig.real: /usr/local/lib/libtbbbind_2_5.so.3 is not a symbolic link\n",
            "\n",
            "/sbin/ldconfig.real: /usr/local/lib/libtbbbind.so.3 is not a symbolic link\n",
            "\n",
            "/sbin/ldconfig.real: /usr/local/lib/libtbbmalloc.so.2 is not a symbolic link\n",
            "\n",
            "/sbin/ldconfig.real: /usr/local/lib/libtbb.so.12 is not a symbolic link\n",
            "\n",
            "/sbin/ldconfig.real: /usr/local/lib/libtbbbind_2_0.so.3 is not a symbolic link\n",
            "\n",
            "\u001b[2K     \u001b[90m━━━━━━━━━━━━━━━━━━━━━━━━━━━━━━━━━━━━━━━━\u001b[0m \u001b[32m1.9/1.9 MB\u001b[0m \u001b[31m20.4 MB/s\u001b[0m eta \u001b[36m0:00:00\u001b[0m\n",
            "\u001b[?25h-- The C compiler identification is GNU 11.4.0\n",
            "-- The CXX compiler identification is GNU 11.4.0\n",
            "-- Check for working C compiler: /usr/bin/cc\n",
            "-- Check for working C compiler: /usr/bin/cc -- works\n",
            "-- Detecting C compiler ABI info\n",
            "-- Detecting C compiler ABI info - done\n",
            "-- Detecting C compile features\n",
            "-- Detecting C compile features - done\n",
            "-- Check for working CXX compiler: /usr/bin/c++\n",
            "-- Check for working CXX compiler: /usr/bin/c++ -- works\n",
            "-- Detecting CXX compiler ABI info\n",
            "-- Detecting CXX compiler ABI info - done\n",
            "-- Detecting CXX compile features\n",
            "-- Detecting CXX compile features - done\n",
            "-- GCC detected, adding compile flags\n",
            "-- GCC detected, adding compile flags\n",
            "-- Looking for pthread.h\n",
            "-- Looking for pthread.h - found\n",
            "-- Looking for pthread_create\n",
            "-- Looking for pthread_create - found\n",
            "-- Found Threads: TRUE  \n",
            "-- Found CUDA: /usr/local/cuda (found version \"12.2\") \n",
            "-- Building with CUDA.\n",
            "-- CUDA detected: 12.2\n",
            "-- Found cuDNN: ver. 8.9.6 found (include: /usr/include, library: /usr/lib/x86_64-linux-gnu/libcudnn.so)\n",
            "-- Added CUDA NVCC flags for: sm_75\n",
            "-- Found cuDNN: ver. 8.9.6 found (include: /usr/include, library: /usr/lib/x86_64-linux-gnu/libcudnn.so)\n",
            "-- Found GFlags: /usr/include  \n",
            "-- Found gflags  (include: /usr/include, library: /usr/lib/x86_64-linux-gnu/libgflags.so)\n",
            "-- Found Glog: /usr/include  \n",
            "-- Found glog    (include: /usr/include, library: /usr/lib/x86_64-linux-gnu/libglog.so)\n",
            "-- Found Protobuf: /usr/lib/x86_64-linux-gnu/libprotobuf.so (found version \"3.12.4\") \n",
            "-- Found OpenCV: /usr (found version \"4.5.4\") \n",
            "-- Caffe will be downloaded from source now. NOTE: This process might take several minutes depending\n",
            "        on your internet connection.\n",
            "Submodule '3rdparty/caffe' (https://github.com/CMU-Perceptual-Computing-Lab/caffe.git) registered for path '../3rdparty/caffe'\n",
            "Cloning into '/content/openpose/3rdparty/caffe'...\n",
            "Submodule path '../3rdparty/caffe': checked out 'b5ede488952e40861e84e51a9f9fd8fe2395cc8a'\n",
            "Previous HEAD position was b5ede488 Added TX2 JetPack3.3 support\n",
            "HEAD is now at 1807aada Added Ampere arch's (CUDA11)\n",
            "-- Caffe will be built from source now.\n",
            "-- Download the models.\n",
            "-- Downloading BODY_25 model...\n",
            "-- NOTE: This process might take several minutes depending on your internet connection.\n",
            "CMake Error at cmake/Utils.cmake:8 (file):\n",
            "  file DOWNLOAD HASH mismatch\n",
            "\n",
            "    for file: [/content/openpose/models/pose/body_25/pose_iter_584000.caffemodel]\n",
            "      expected hash: [78287b57cf85fa89c03f1393d368e5b7]\n",
            "        actual hash: [d41d8cd98f00b204e9800998ecf8427e]\n",
            "             status: [7;\"Couldn't connect to server\"]\n",
            "\n",
            "Call Stack (most recent call first):\n",
            "  CMakeLists.txt:985 (download_model)\n",
            "\n",
            "\n",
            "-- Not downloading body (COCO) model\n",
            "-- Not downloading body (MPI) model\n",
            "-- Downloading face model...\n",
            "-- NOTE: This process might take several minutes depending on your internet connection.\n",
            "CMake Error at cmake/Utils.cmake:8 (file):\n",
            "  file DOWNLOAD HASH mismatch\n",
            "\n",
            "    for file: [/content/openpose/models/face/pose_iter_116000.caffemodel]\n",
            "      expected hash: [e747180d728fa4e4418c465828384333]\n",
            "        actual hash: [d41d8cd98f00b204e9800998ecf8427e]\n",
            "             status: [7;\"Couldn't connect to server\"]\n",
            "\n",
            "Call Stack (most recent call first):\n",
            "  CMakeLists.txt:991 (download_model)\n",
            "\n",
            "\n",
            "-- Downloading hand model...\n",
            "-- NOTE: This process might take several minutes depending on your internet connection.\n",
            "CMake Error at cmake/Utils.cmake:8 (file):\n",
            "  file DOWNLOAD HASH mismatch\n",
            "\n",
            "    for file: [/content/openpose/models/hand/pose_iter_102000.caffemodel]\n",
            "      expected hash: [a82cfc3fea7c62f159e11bd3674c1531]\n",
            "        actual hash: [d41d8cd98f00b204e9800998ecf8427e]\n",
            "             status: [7;\"Couldn't connect to server\"]\n",
            "\n",
            "Call Stack (most recent call first):\n",
            "  CMakeLists.txt:993 (download_model)\n",
            "\n",
            "\n",
            "-- Models Downloaded.\n",
            "-- Configuring incomplete, errors occurred!\n",
            "See also \"/content/openpose/build/CMakeFiles/CMakeOutput.log\".\n"
          ]
        }
      ]
    },
    {
      "metadata": {
        "id": "n5L3Z5YVrZ2R"
      },
      "cell_type": "markdown",
      "source": [
        "## Detect poses on a test video\n",
        "\n",
        "We are going to detect poses on the following youtube video:"
      ]
    },
    {
      "cell_type": "code",
      "source": [
        "from google.colab import drive\n",
        "drive.mount('/content/drive')"
      ],
      "metadata": {
        "colab": {
          "base_uri": "https://localhost:8080/"
        },
        "id": "aViFl4QftEcT",
        "outputId": "71600da4-8020-4ebe-d1ee-f703095d413b"
      },
      "execution_count": 2,
      "outputs": [
        {
          "output_type": "stream",
          "name": "stdout",
          "text": [
            "Mounted at /content/drive\n"
          ]
        }
      ]
    },
    {
      "cell_type": "code",
      "source": [
        "video_path = '/content/drive/MyDrive/UGRP/poses.mp4'"
      ],
      "metadata": {
        "id": "BDZ17vN7tilX"
      },
      "execution_count": 3,
      "outputs": []
    },
    {
      "metadata": {
        "id": "oNASdyyiO65I",
        "colab": {
          "base_uri": "https://localhost:8080/"
        },
        "outputId": "b23ded4a-b14c-442a-81c3-e8643f7c14b5"
      },
      "cell_type": "code",
      "source": [
        "# !rm -rf youtube.mp4\n",
        "# # download the youtube with the given ID\n",
        "# !youtube-dl -f 'bestvideo[ext=mp4]' --output \"youtube.%(ext)s\" https://www.youtube.com/watch?v=$YOUTUBE_ID\n",
        "# cut the first 5 seconds\n",
        "!ffmpeg -y -loglevel info -i /content/drive/MyDrive/UGRP/poses.mp4 -t 5 video.mp4 && cd ../video.mp4 && pwd\n",
        "# detect poses on the these 5 seconds\n",
        "# !rm openpose.avi\n",
        "!cd ~/openpose && ./build/examples/openpose/openpose.bin -video ../video.mp4 --write_json ./output/ --display 0  --write_video ../openpose.avi\n"
      ],
      "execution_count": 8,
      "outputs": [
        {
          "output_type": "stream",
          "name": "stdout",
          "text": [
            "ffmpeg version 4.4.2-0ubuntu0.22.04.1 Copyright (c) 2000-2021 the FFmpeg developers\n",
            "  built with gcc 11 (Ubuntu 11.2.0-19ubuntu1)\n",
            "  configuration: --prefix=/usr --extra-version=0ubuntu0.22.04.1 --toolchain=hardened --libdir=/usr/lib/x86_64-linux-gnu --incdir=/usr/include/x86_64-linux-gnu --arch=amd64 --enable-gpl --disable-stripping --enable-gnutls --enable-ladspa --enable-libaom --enable-libass --enable-libbluray --enable-libbs2b --enable-libcaca --enable-libcdio --enable-libcodec2 --enable-libdav1d --enable-libflite --enable-libfontconfig --enable-libfreetype --enable-libfribidi --enable-libgme --enable-libgsm --enable-libjack --enable-libmp3lame --enable-libmysofa --enable-libopenjpeg --enable-libopenmpt --enable-libopus --enable-libpulse --enable-librabbitmq --enable-librubberband --enable-libshine --enable-libsnappy --enable-libsoxr --enable-libspeex --enable-libsrt --enable-libssh --enable-libtheora --enable-libtwolame --enable-libvidstab --enable-libvorbis --enable-libvpx --enable-libwebp --enable-libx265 --enable-libxml2 --enable-libxvid --enable-libzimg --enable-libzmq --enable-libzvbi --enable-lv2 --enable-omx --enable-openal --enable-opencl --enable-opengl --enable-sdl2 --enable-pocketsphinx --enable-librsvg --enable-libmfx --enable-libdc1394 --enable-libdrm --enable-libiec61883 --enable-chromaprint --enable-frei0r --enable-libx264 --enable-shared\n",
            "  libavutil      56. 70.100 / 56. 70.100\n",
            "  libavcodec     58.134.100 / 58.134.100\n",
            "  libavformat    58. 76.100 / 58. 76.100\n",
            "  libavdevice    58. 13.100 / 58. 13.100\n",
            "  libavfilter     7.110.100 /  7.110.100\n",
            "  libswscale      5.  9.100 /  5.  9.100\n",
            "  libswresample   3.  9.100 /  3.  9.100\n",
            "  libpostproc    55.  9.100 / 55.  9.100\n",
            "Input #0, mov,mp4,m4a,3gp,3g2,mj2, from '/content/drive/MyDrive/UGRP/poses.mp4':\n",
            "  Metadata:\n",
            "    major_brand     : mp42\n",
            "    minor_version   : 0\n",
            "    compatible_brands: isommp42\n",
            "    creation_time   : 2023-09-17T01:19:43.000000Z\n",
            "  Duration: 00:00:37.36, start: 0.000000, bitrate: 223 kb/s\n",
            "  Stream #0:0(und): Video: h264 (Main) (avc1 / 0x31637661), yuv420p(tv, bt709), 640x360 [SAR 1:1 DAR 16:9], 92 kb/s, 25 fps, 25 tbr, 12800 tbn, 50 tbc (default)\n",
            "    Metadata:\n",
            "      creation_time   : 2023-09-17T01:19:43.000000Z\n",
            "      handler_name    : ISO Media file produced by Google Inc. Created on: 09/16/2023.\n",
            "      vendor_id       : [0][0][0][0]\n",
            "  Stream #0:1(und): Audio: aac (LC) (mp4a / 0x6134706D), 44100 Hz, stereo, fltp, 127 kb/s (default)\n",
            "    Metadata:\n",
            "      creation_time   : 2023-09-17T01:19:43.000000Z\n",
            "      handler_name    : ISO Media file produced by Google Inc. Created on: 09/16/2023.\n",
            "      vendor_id       : [0][0][0][0]\n",
            "Stream mapping:\n",
            "  Stream #0:0 -> #0:0 (h264 (native) -> h264 (libx264))\n",
            "  Stream #0:1 -> #0:1 (aac (native) -> aac (native))\n",
            "Press [q] to stop, [?] for help\n",
            "\u001b[1;36m[libx264 @ 0x5aee5db07100] \u001b[0musing SAR=1/1\n",
            "\u001b[1;36m[libx264 @ 0x5aee5db07100] \u001b[0musing cpu capabilities: MMX2 SSE2Fast SSSE3 SSE4.2 AVX FMA3 BMI2 AVX2 AVX512\n",
            "\u001b[1;36m[libx264 @ 0x5aee5db07100] \u001b[0mprofile High, level 3.0, 4:2:0, 8-bit\n",
            "\u001b[1;36m[libx264 @ 0x5aee5db07100] \u001b[0m264 - core 163 r3060 5db6aa6 - H.264/MPEG-4 AVC codec - Copyleft 2003-2021 - http://www.videolan.org/x264.html - options: cabac=1 ref=3 deblock=1:0:0 analyse=0x3:0x113 me=hex subme=7 psy=1 psy_rd=1.00:0.00 mixed_ref=1 me_range=16 chroma_me=1 trellis=1 8x8dct=1 cqm=0 deadzone=21,11 fast_pskip=1 chroma_qp_offset=-2 threads=3 lookahead_threads=1 sliced_threads=0 nr=0 decimate=1 interlaced=0 bluray_compat=0 constrained_intra=0 bframes=3 b_pyramid=2 b_adapt=1 b_bias=0 direct=1 weightb=1 open_gop=0 weightp=2 keyint=250 keyint_min=25 scenecut=40 intra_refresh=0 rc_lookahead=40 rc=crf mbtree=1 crf=23.0 qcomp=0.60 qpmin=0 qpmax=69 qpstep=4 ip_ratio=1.40 aq=1:1.00\n",
            "Output #0, mp4, to 'video.mp4':\n",
            "  Metadata:\n",
            "    major_brand     : mp42\n",
            "    minor_version   : 0\n",
            "    compatible_brands: isommp42\n",
            "    encoder         : Lavf58.76.100\n",
            "  Stream #0:0(und): Video: h264 (avc1 / 0x31637661), yuv420p(tv, bt709, progressive), 640x360 [SAR 1:1 DAR 16:9], q=2-31, 25 fps, 12800 tbn (default)\n",
            "    Metadata:\n",
            "      creation_time   : 2023-09-17T01:19:43.000000Z\n",
            "      handler_name    : ISO Media file produced by Google Inc. Created on: 09/16/2023.\n",
            "      vendor_id       : [0][0][0][0]\n",
            "      encoder         : Lavc58.134.100 libx264\n",
            "    Side data:\n",
            "      cpb: bitrate max/min/avg: 0/0/0 buffer size: 0 vbv_delay: N/A\n",
            "  Stream #0:1(und): Audio: aac (LC) (mp4a / 0x6134706D), 44100 Hz, stereo, fltp, 128 kb/s (default)\n",
            "    Metadata:\n",
            "      creation_time   : 2023-09-17T01:19:43.000000Z\n",
            "      handler_name    : ISO Media file produced by Google Inc. Created on: 09/16/2023.\n",
            "      vendor_id       : [0][0][0][0]\n",
            "      encoder         : Lavc58.134.100 aac\n",
            "frame=  125 fps= 70 q=-1.0 Lsize=     174kB time=00:00:04.99 bitrate= 285.5kbits/s speed=2.81x    \n",
            "video:88kB audio:80kB subtitle:0kB other streams:0kB global headers:0kB muxing overhead: 3.322065%\n",
            "\u001b[1;36m[libx264 @ 0x5aee5db07100] \u001b[0mframe I:2     Avg QP:12.44  size:  2374\n",
            "\u001b[1;36m[libx264 @ 0x5aee5db07100] \u001b[0mframe P:42    Avg QP:19.45  size:  1629\n",
            "\u001b[1;36m[libx264 @ 0x5aee5db07100] \u001b[0mframe B:81    Avg QP:22.17  size:   202\n",
            "\u001b[1;36m[libx264 @ 0x5aee5db07100] \u001b[0mconsecutive B-frames:  3.2% 28.8%  7.2% 60.8%\n",
            "\u001b[1;36m[libx264 @ 0x5aee5db07100] \u001b[0mmb I  I16..4: 75.7% 16.8%  7.5%\n",
            "\u001b[1;36m[libx264 @ 0x5aee5db07100] \u001b[0mmb P  I16..4:  6.7%  8.4%  0.7%  P16..4: 18.1%  4.6%  1.9%  0.0%  0.0%    skip:59.7%\n",
            "\u001b[1;36m[libx264 @ 0x5aee5db07100] \u001b[0mmb B  I16..4:  1.0%  1.0%  0.0%  B16..8:  8.6%  0.4%  0.1%  direct: 1.1%  skip:87.8%  L0:42.6% L1:53.2% BI: 4.2%\n",
            "\u001b[1;36m[libx264 @ 0x5aee5db07100] \u001b[0m8x8 transform intra:45.4% inter:41.1%\n",
            "\u001b[1;36m[libx264 @ 0x5aee5db07100] \u001b[0mcoded y,uvDC,uvAC intra: 9.4% 11.5% 1.6% inter: 2.0% 2.4% 0.1%\n",
            "\u001b[1;36m[libx264 @ 0x5aee5db07100] \u001b[0mi16 v,h,dc,p: 39% 30% 12% 19%\n",
            "\u001b[1;36m[libx264 @ 0x5aee5db07100] \u001b[0mi8 v,h,dc,ddl,ddr,vr,hd,vl,hu: 23% 23% 51%  1%  0%  0%  0%  0%  1%\n",
            "\u001b[1;36m[libx264 @ 0x5aee5db07100] \u001b[0mi4 v,h,dc,ddl,ddr,vr,hd,vl,hu: 42% 17% 19%  3%  3%  7%  3%  5%  2%\n",
            "\u001b[1;36m[libx264 @ 0x5aee5db07100] \u001b[0mi8c dc,h,v,p: 76% 14%  9%  1%\n",
            "\u001b[1;36m[libx264 @ 0x5aee5db07100] \u001b[0mWeighted P-Frames: Y:26.2% UV:21.4%\n",
            "\u001b[1;36m[libx264 @ 0x5aee5db07100] \u001b[0mref P L0: 71.4% 11.5% 12.2%  4.4%  0.5%\n",
            "\u001b[1;36m[libx264 @ 0x5aee5db07100] \u001b[0mref B L0: 81.4% 16.5%  2.1%\n",
            "\u001b[1;36m[libx264 @ 0x5aee5db07100] \u001b[0mref B L1: 95.8%  4.2%\n",
            "\u001b[1;36m[libx264 @ 0x5aee5db07100] \u001b[0mkb/s:143.31\n",
            "\u001b[1;36m[aac @ 0x5aee5db0d800] \u001b[0mQavg: 2014.221\n",
            "/bin/bash: line 1: cd: ../video.mp4: No such file or directory\n",
            "/bin/bash: line 1: cd: /root/openpose: No such file or directory\n"
          ]
        }
      ]
    },
    {
      "cell_type": "code",
      "source": [],
      "metadata": {
        "id": "giEAPJQhvoiC"
      },
      "execution_count": 4,
      "outputs": []
    },
    {
      "cell_type": "code",
      "source": [
        "!ls ../openpose.avi"
      ],
      "metadata": {
        "colab": {
          "base_uri": "https://localhost:8080/"
        },
        "id": "wxIRBFi7u20P",
        "outputId": "f4857dc8-5d22-49e9-862d-eddb3c9dfa25"
      },
      "execution_count": 5,
      "outputs": [
        {
          "output_type": "stream",
          "name": "stdout",
          "text": [
            "ls: cannot access '../openpose.avi': No such file or directory\n"
          ]
        }
      ]
    },
    {
      "cell_type": "code",
      "source": [
        "# convert the result into MP4\n",
        "!ffmpeg -y -loglevel info -i openpose.avi output.mp4"
      ],
      "metadata": {
        "id": "nW3ZX0vIutcF",
        "colab": {
          "base_uri": "https://localhost:8080/"
        },
        "outputId": "56a7ac47-0eb3-4ab4-fd77-a0628b412625"
      },
      "execution_count": 6,
      "outputs": [
        {
          "output_type": "stream",
          "name": "stdout",
          "text": [
            "ffmpeg version 4.4.2-0ubuntu0.22.04.1 Copyright (c) 2000-2021 the FFmpeg developers\n",
            "  built with gcc 11 (Ubuntu 11.2.0-19ubuntu1)\n",
            "  configuration: --prefix=/usr --extra-version=0ubuntu0.22.04.1 --toolchain=hardened --libdir=/usr/lib/x86_64-linux-gnu --incdir=/usr/include/x86_64-linux-gnu --arch=amd64 --enable-gpl --disable-stripping --enable-gnutls --enable-ladspa --enable-libaom --enable-libass --enable-libbluray --enable-libbs2b --enable-libcaca --enable-libcdio --enable-libcodec2 --enable-libdav1d --enable-libflite --enable-libfontconfig --enable-libfreetype --enable-libfribidi --enable-libgme --enable-libgsm --enable-libjack --enable-libmp3lame --enable-libmysofa --enable-libopenjpeg --enable-libopenmpt --enable-libopus --enable-libpulse --enable-librabbitmq --enable-librubberband --enable-libshine --enable-libsnappy --enable-libsoxr --enable-libspeex --enable-libsrt --enable-libssh --enable-libtheora --enable-libtwolame --enable-libvidstab --enable-libvorbis --enable-libvpx --enable-libwebp --enable-libx265 --enable-libxml2 --enable-libxvid --enable-libzimg --enable-libzmq --enable-libzvbi --enable-lv2 --enable-omx --enable-openal --enable-opencl --enable-opengl --enable-sdl2 --enable-pocketsphinx --enable-librsvg --enable-libmfx --enable-libdc1394 --enable-libdrm --enable-libiec61883 --enable-chromaprint --enable-frei0r --enable-libx264 --enable-shared\n",
            "  libavutil      56. 70.100 / 56. 70.100\n",
            "  libavcodec     58.134.100 / 58.134.100\n",
            "  libavformat    58. 76.100 / 58. 76.100\n",
            "  libavdevice    58. 13.100 / 58. 13.100\n",
            "  libavfilter     7.110.100 /  7.110.100\n",
            "  libswscale      5.  9.100 /  5.  9.100\n",
            "  libswresample   3.  9.100 /  3.  9.100\n",
            "  libpostproc    55.  9.100 / 55.  9.100\n",
            "\u001b[1;31mopenpose.avi: No such file or directory\n",
            "\u001b[0m"
          ]
        }
      ]
    },
    {
      "metadata": {
        "id": "kDDkgCCSrFTv"
      },
      "cell_type": "markdown",
      "source": [
        "Finally, visualize the result:"
      ]
    },
    {
      "metadata": {
        "id": "nZ3Ud9zLgOoQ",
        "colab": {
          "base_uri": "https://localhost:8080/",
          "height": 305
        },
        "outputId": "e17ad82c-3a39-4f54-c4dc-d1ce4eeb1a03"
      },
      "cell_type": "code",
      "source": [
        "def show_local_mp4_video(file_name, width=640, height=480):\n",
        "  import io\n",
        "  import base64\n",
        "  from IPython.display import HTML\n",
        "  video_encoded = base64.b64encode(io.open(file_name, 'rb').read())\n",
        "  return HTML(data='''<video width=\"{0}\" height=\"{1}\" alt=\"test\" controls>\n",
        "                        <source src=\"data:video/mp4;base64,{2}\" type=\"video/mp4\" />\n",
        "                      </video>'''.format(width, height, video_encoded.decode('ascii')))\n",
        "\n",
        "show_local_mp4_video('output.mp4', width=960, height=720)"
      ],
      "execution_count": 7,
      "outputs": [
        {
          "output_type": "error",
          "ename": "FileNotFoundError",
          "evalue": "[Errno 2] No such file or directory: 'output.mp4'",
          "traceback": [
            "\u001b[0;31m---------------------------------------------------------------------------\u001b[0m",
            "\u001b[0;31mFileNotFoundError\u001b[0m                         Traceback (most recent call last)",
            "\u001b[0;32m<ipython-input-7-333534b1a513>\u001b[0m in \u001b[0;36m<cell line: 10>\u001b[0;34m()\u001b[0m\n\u001b[1;32m      8\u001b[0m                       </video>'''.format(width, height, video_encoded.decode('ascii')))\n\u001b[1;32m      9\u001b[0m \u001b[0;34m\u001b[0m\u001b[0m\n\u001b[0;32m---> 10\u001b[0;31m \u001b[0mshow_local_mp4_video\u001b[0m\u001b[0;34m(\u001b[0m\u001b[0;34m'output.mp4'\u001b[0m\u001b[0;34m,\u001b[0m \u001b[0mwidth\u001b[0m\u001b[0;34m=\u001b[0m\u001b[0;36m960\u001b[0m\u001b[0;34m,\u001b[0m \u001b[0mheight\u001b[0m\u001b[0;34m=\u001b[0m\u001b[0;36m720\u001b[0m\u001b[0;34m)\u001b[0m\u001b[0;34m\u001b[0m\u001b[0;34m\u001b[0m\u001b[0m\n\u001b[0m",
            "\u001b[0;32m<ipython-input-7-333534b1a513>\u001b[0m in \u001b[0;36mshow_local_mp4_video\u001b[0;34m(file_name, width, height)\u001b[0m\n\u001b[1;32m      3\u001b[0m   \u001b[0;32mimport\u001b[0m \u001b[0mbase64\u001b[0m\u001b[0;34m\u001b[0m\u001b[0;34m\u001b[0m\u001b[0m\n\u001b[1;32m      4\u001b[0m   \u001b[0;32mfrom\u001b[0m \u001b[0mIPython\u001b[0m\u001b[0;34m.\u001b[0m\u001b[0mdisplay\u001b[0m \u001b[0;32mimport\u001b[0m \u001b[0mHTML\u001b[0m\u001b[0;34m\u001b[0m\u001b[0;34m\u001b[0m\u001b[0m\n\u001b[0;32m----> 5\u001b[0;31m   \u001b[0mvideo_encoded\u001b[0m \u001b[0;34m=\u001b[0m \u001b[0mbase64\u001b[0m\u001b[0;34m.\u001b[0m\u001b[0mb64encode\u001b[0m\u001b[0;34m(\u001b[0m\u001b[0mio\u001b[0m\u001b[0;34m.\u001b[0m\u001b[0mopen\u001b[0m\u001b[0;34m(\u001b[0m\u001b[0mfile_name\u001b[0m\u001b[0;34m,\u001b[0m \u001b[0;34m'rb'\u001b[0m\u001b[0;34m)\u001b[0m\u001b[0;34m.\u001b[0m\u001b[0mread\u001b[0m\u001b[0;34m(\u001b[0m\u001b[0;34m)\u001b[0m\u001b[0;34m)\u001b[0m\u001b[0;34m\u001b[0m\u001b[0;34m\u001b[0m\u001b[0m\n\u001b[0m\u001b[1;32m      6\u001b[0m   return HTML(data='''<video width=\"{0}\" height=\"{1}\" alt=\"test\" controls>\n\u001b[1;32m      7\u001b[0m                         \u001b[0;34m<\u001b[0m\u001b[0msource\u001b[0m \u001b[0msrc\u001b[0m\u001b[0;34m=\u001b[0m\u001b[0;34m\"data:video/mp4;base64,{2}\"\u001b[0m \u001b[0mtype\u001b[0m\u001b[0;34m=\u001b[0m\u001b[0;34m\"video/mp4\"\u001b[0m \u001b[0;34m/\u001b[0m\u001b[0;34m>\u001b[0m\u001b[0;34m\u001b[0m\u001b[0;34m\u001b[0m\u001b[0m\n",
            "\u001b[0;31mFileNotFoundError\u001b[0m: [Errno 2] No such file or directory: 'output.mp4'"
          ]
        }
      ]
    }
  ]
}